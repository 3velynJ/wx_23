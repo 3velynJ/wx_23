{
 "cells": [
  {
   "cell_type": "markdown",
   "id": "8a5c097f",
   "metadata": {},
   "source": [
    "# Project 1H: Plotting\n",
    "---\n",
    "> - Isabelle Taylor\n",
    "> - Maria Oancea\n",
    "> - Anton Zebish\n",
    "> - Helga Hadalin\n",
    "---\n",
    "Using matplotlib you will develop functions that will support the development of GUIs in stage 2 projects. There are a number of useful plot types to consider."
   ]
  },
  {
   "cell_type": "markdown",
   "id": "7c8095f4",
   "metadata": {},
   "source": [
    "<div class=\"alert alert-block alert-info\">\n",
    "<b>General Advice</b>\n",
    "\n",
    "> In your groups:\n",
    "> - Start by planning your work\n",
    "> - You will need fundamental functions; try to plan what these should do, what arguments they should take, which should have default values (some default values will need research - ask us!), and what they should return. Don't forget to consider speed and the format of the data (float? int? array of floats? should the array be a certain length?...)\n",
    "> - Ask for feedback on your plan to save time\n",
    "> - Document your functions so others can understand / use / modify them\n",
    "> - Build more complex functions using the fundamental functions, this may require you to go back and modify the fundamental functions.\n",
    "> - Some things are suitable for objects (classes), others are not. Speed and accuracy are important.\n",
    "\n",
    "\n",
    "> When coding a function (unless you have a preferred method):\n",
    "> 1. Plan your code in bullet points / pseudo-code\n",
    "> 2. Template your functions - put comments to say what you want to do\n",
    "> 3. Implement your code step-by-step. Pair programming here is your friend and will catch many mistakes, as well as give 2 people enough experience of the code to help debug it\n",
    "> 4. Test your code and document the testing\n",
    "> 5. Provide standard tests <b>only if requested by Haroon/Esher</b> (define an input with a known output and assert that it is the same, or within a tolerance)    \n",
    "> 6. Provide examples of use for each use case (different behaviour with optional arguments etc)\n",
    "> 7. Turn your functions into objects if suitable\n",
    "> 8. Get feedback from peers / supervisors / team-mates / users\n",
    "\n",
    "> - <b> Make a repository to hold your group project</b> (public so we can all access it at need), try to keep this well organised and easy to navigate / use / find something\n",
    "> - Make a Jupyter notebook for each investigation / function / method: such that future users (perhaps you) can use these notebooks to construct the code required to make future GUIs work\n",
    "> - Feel free to store individual work on your own 'dump' repository, and copy completed work to your group repository\n",
    "\n",
    "\n",
    "</div>"
   ]
  },
  {
   "cell_type": "markdown",
   "id": "6e76c4a1",
   "metadata": {},
   "source": [
    "---\n",
    "## Tasks:\n",
    "\n",
    "- [ ] Function to make a figure, with default arguments for parameters such as figure size and other useful features (ask us) including subplots - axes can be handled separately, consider only the figure parameters here\n",
    "- [ ] Function to handle a matplotlib axis; axes are objects and can be passed around by functions. In this function you should define axes labels, limits, grids, legends, and plot data\n",
    "- [ ] Function to handle a secondary y-axis (matplotlib twinx: https://matplotlib.org/stable/api/_as_gen/matplotlib.axes.Axes.twinx.html) and do the same as above\n",
    "- [ ] Function to plot a histogram of data\n",
    "    - [ ] data: x = time (-0.5 - 10.5 ms), y = BLM signal (user chooses bin width)\n",
    "    - [ ] data: x = time (-0.5 - 10.5 ms), y = R5IM signal (user chooses bin width)\n",
    "    - [ ] data: x = BLM name, y = sum of each individual BLM signal (1 bin = 1 BLM)\n",
    "- [ ] Function to plot a waterfall of BLM data\n",
    "    - [ ] data: x = time (-0.5 - 10.5 ms), y = BLM signal, z = individual BLMs\n",
    "    - [ ] data: x = time (-0.5 - 10.5 ms), y = BLM signal, z = MQTT signals (viewing changes in the same BLM in real time @ 1Hz)\n",
    "- [ ] Function to plot cumulative data over time\n",
    "    - [ ] data: x = real time in seconds, y = single value (e.g. a BLM signal summed) changing at 1 Hz (keep all previous data and keep increasing the x axis length)\n",
    "    - [ ] add functionality to plot an envelope/errorbar around the data at +/- 1%\n",
    "- [ ] Make all plotting functions (histogram / waterfall / cumulative data over time) work with the figure and axes functions\n",
    "\n",
    "### Extensions:\n",
    "Complete all tasks before starting extensions\n",
    "\n",
    "- [ ] Store the generated plot(s) as .png files - make sure the plots look correct - tight_layout and bbox_inches may be useful"
   ]
  },
  {
   "cell_type": "markdown",
   "id": "1508497d",
   "metadata": {},
   "source": [
    "### Goal\n",
    "#### Provide methods (functions / classes) to:\n",
    "- [ ] Allow the user to specify a matplotlib figure; including subplots and their layout\n",
    "- [ ] Allow the user to choose from the below plots to add to the figure as axes in subplots\n",
    "- [ ] Allow the user to plot waterfall plots by passing data to functions\n",
    "- [ ] Allow the user to plot histograms by passing data to functions\n",
    "- [ ] Allow the user to plot tracked data by passing data to functions\n"
   ]
  },
  {
   "cell_type": "code",
   "execution_count": null,
   "id": "36a41fd2",
   "metadata": {},
   "outputs": [],
   "source": []
  }
 ],
 "metadata": {
  "kernelspec": {
   "display_name": "Python 3 (ipykernel)",
   "language": "python",
   "name": "python3"
  },
  "language_info": {
   "codemirror_mode": {
    "name": "ipython",
    "version": 3
   },
   "file_extension": ".py",
   "mimetype": "text/x-python",
   "name": "python",
   "nbconvert_exporter": "python",
   "pygments_lexer": "ipython3",
   "version": "3.11.3"
  }
 },
 "nbformat": 4,
 "nbformat_minor": 5
}
