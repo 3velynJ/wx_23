{
 "cells": [
  {
   "cell_type": "markdown",
   "metadata": {},
   "source": [
    "# Introduction to MatPlotLib"
   ]
  },
  {
   "cell_type": "markdown",
   "metadata": {},
   "source": [
    "## In this notebook you should learn:\n",
    "- How to use MatPlotLib to plot data\n",
    "- How to create subplots\n",
    "- How to create heatmaps\n",
    "- How to manipulate plots"
   ]
  },
  {
   "cell_type": "markdown",
   "metadata": {},
   "source": [
    "---\n",
    "# MatPlotLib basics\n",
    "\n",
    "Matplotlib (https://matplotlib.org/) is a comprehensive library for creating static, animated, and interactive visualizations in Python."
   ]
  },
  {
   "cell_type": "markdown",
   "metadata": {},
   "source": [
    "### Basic Plot\n",
    "\n",
    "Plotting is very easy - let's first generate some dummy data:"
   ]
  },
  {
   "cell_type": "code",
   "execution_count": null,
   "metadata": {},
   "outputs": [],
   "source": [
    "import numpy as np                 # Import numerical python library\n",
    "x = np.linspace(0, 2*np.pi, 100)   # Create linearly spaced sequence of 100 numbers between 0 - 2pi\n",
    "y = np.sin(x)                      # Make y data sin(x) using numpy sin function"
   ]
  },
  {
   "cell_type": "markdown",
   "metadata": {},
   "source": [
    "This creates a numpy array of 100 evenly spaced numbers between 0 - 2$\\pi$"
   ]
  },
  {
   "cell_type": "code",
   "execution_count": null,
   "metadata": {},
   "outputs": [],
   "source": [
    "x"
   ]
  },
  {
   "cell_type": "code",
   "execution_count": null,
   "metadata": {},
   "outputs": [],
   "source": [
    "y"
   ]
  },
  {
   "cell_type": "markdown",
   "metadata": {},
   "source": [
    "We have to import the MatPlotLib library before using it:"
   ]
  },
  {
   "cell_type": "code",
   "execution_count": null,
   "metadata": {},
   "outputs": [],
   "source": [
    "import matplotlib.pyplot as plt\n",
    "import matplotlib.cm as cm"
   ]
  },
  {
   "cell_type": "markdown",
   "metadata": {},
   "source": [
    "Finally we can plot using the plot() function"
   ]
  },
  {
   "cell_type": "code",
   "execution_count": null,
   "metadata": {},
   "outputs": [],
   "source": [
    "plt.plot(x,y)\n",
    "#plt.show() #this command may be required when not running in a notebook"
   ]
  },
  {
   "cell_type": "markdown",
   "metadata": {},
   "source": [
    "### Multiple data sets / plots\n",
    "When using multiple data sets or creating multiple plots we have numerous options:\n",
    "- Use subplots\n",
    "- Use Figure + Gridspec"
   ]
  },
  {
   "cell_type": "code",
   "execution_count": null,
   "metadata": {},
   "outputs": [],
   "source": [
    "plt.figure(figsize=(9, 3))\n",
    "\n",
    "plt.subplot(131)\n",
    "plt.bar(x, y, color='g')\n",
    "\n",
    "plt.subplot(132)\n",
    "plt.scatter(x, y, color='y')\n",
    "\n",
    "plt.subplot(133)\n",
    "plt.plot(x, y, color='c')\n",
    "\n",
    "plt.suptitle('Subplots: side by side')"
   ]
  },
  {
   "cell_type": "code",
   "execution_count": null,
   "metadata": {},
   "outputs": [],
   "source": [
    "plt.figure()\n",
    "plt.subplot(211)\n",
    "plt.scatter(x, y, marker='x', color='r')\n",
    "plt.subplot(212)\n",
    "plt.plot(x, y, linewidth=4, linestyle=':', color='b')\n",
    "plt.suptitle('Subplots: vertically stacked')"
   ]
  },
  {
   "cell_type": "markdown",
   "metadata": {},
   "source": [
    "### Colormaps\n",
    "When using multiple data sets we can let MatPlotLib define colours itself, define them individually for each dataset, or use colormaps."
   ]
  },
  {
   "cell_type": "markdown",
   "metadata": {},
   "source": [
    "- numpy linspace function is used to create evenly spaced numbers between a specified interval `np.linspace(start, end, number_of_values)`\n",
    "- for example `np.linspace(0, 1, 5)` returns `array([0.  , 0.25, 0.5 , 0.75, 1.  ])`\n",
    "- let's try an example with 4 datasets"
   ]
  },
  {
   "cell_type": "code",
   "execution_count": null,
   "metadata": {},
   "outputs": [],
   "source": [
    "x = np.linspace(0, 2*np.pi, 100)   # Create linearly spaced sequence of 100 numbers between 0 - 2pi\n",
    "sinx = np.sin(x)                      # Make y data sin(x) using numpy sin function\n",
    "cosx = np.cos(x)\n",
    "sin2x = np.sin(2*x)\n",
    "cos2x = np.cos(2*x)"
   ]
  },
  {
   "cell_type": "markdown",
   "metadata": {},
   "source": [
    "####  Default colours"
   ]
  },
  {
   "cell_type": "code",
   "execution_count": null,
   "metadata": {},
   "outputs": [],
   "source": [
    "plt.plot(x,sinx)\n",
    "plt.plot(x,cosx)\n",
    "plt.plot(x,sin2x)\n",
    "plt.plot(x,cos2x)\n",
    "\n",
    "plt.ylim(-1,1)"
   ]
  },
  {
   "cell_type": "markdown",
   "metadata": {},
   "source": [
    "#### Colormap: Rainbow"
   ]
  },
  {
   "cell_type": "code",
   "execution_count": null,
   "metadata": {},
   "outputs": [],
   "source": [
    "import matplotlib.cm as cm\n",
    "\n",
    "colors = cm.rainbow(np.linspace(0, 1, 4))\n",
    "                    \n",
    "plt.plot(x,sinx, color=colors[0])\n",
    "plt.plot(x,cosx, color=colors[1])\n",
    "plt.plot(x,sin2x, color=colors[2])\n",
    "plt.plot(x,cos2x, color=colors[3])\n",
    "\n",
    "plt.ylim(-1,1)"
   ]
  },
  {
   "cell_type": "markdown",
   "metadata": {},
   "source": [
    "#### Colormap Jet "
   ]
  },
  {
   "cell_type": "code",
   "execution_count": null,
   "metadata": {},
   "outputs": [],
   "source": [
    "colors = cm.jet(np.linspace(0, 1, 4))\n",
    "                    \n",
    "plt.plot(x,sinx, color=colors[0])\n",
    "plt.plot(x,cosx, color=colors[1])\n",
    "plt.plot(x,sin2x, color=colors[2])\n",
    "plt.plot(x,cos2x, color=colors[3])\n",
    "\n",
    "plt.ylim(-1,1)"
   ]
  },
  {
   "cell_type": "markdown",
   "metadata": {},
   "source": [
    "### Colormap Reference\n",
    "https://matplotlib.org/stable/gallery/color/colormap_reference.html"
   ]
  },
  {
   "cell_type": "code",
   "execution_count": null,
   "metadata": {},
   "outputs": [],
   "source": [
    "cmaps = [('Perceptually Uniform Sequential', [\n",
    "            'viridis', 'plasma', 'inferno', 'magma', 'cividis']),\n",
    "         ('Sequential', [\n",
    "            'Greys', 'Purples', 'Blues', 'Greens', 'Oranges', 'Reds',\n",
    "            'YlOrBr', 'YlOrRd', 'OrRd', 'PuRd', 'RdPu', 'BuPu',\n",
    "            'GnBu', 'PuBu', 'YlGnBu', 'PuBuGn', 'BuGn', 'YlGn']),\n",
    "         ('Sequential (2)', [\n",
    "            'binary', 'gist_yarg', 'gist_gray', 'gray', 'bone', 'pink',\n",
    "            'spring', 'summer', 'autumn', 'winter', 'cool', 'Wistia',\n",
    "            'hot', 'afmhot', 'gist_heat', 'copper']),\n",
    "         ('Diverging', [\n",
    "            'PiYG', 'PRGn', 'BrBG', 'PuOr', 'RdGy', 'RdBu',\n",
    "            'RdYlBu', 'RdYlGn', 'Spectral', 'coolwarm', 'bwr', 'seismic']),\n",
    "         ('Cyclic', ['twilight', 'twilight_shifted', 'hsv']),\n",
    "         ('Qualitative', [\n",
    "            'Pastel1', 'Pastel2', 'Paired', 'Accent',\n",
    "            'Dark2', 'Set1', 'Set2', 'Set3',\n",
    "            'tab10', 'tab20', 'tab20b', 'tab20c']),\n",
    "         ('Miscellaneous', [\n",
    "            'flag', 'prism', 'ocean', 'gist_earth', 'terrain', 'gist_stern',\n",
    "            'gnuplot', 'gnuplot2', 'CMRmap', 'cubehelix', 'brg',\n",
    "            'gist_rainbow', 'rainbow', 'jet', 'turbo', 'nipy_spectral',\n",
    "            'gist_ncar'])]\n",
    "\n",
    "\n",
    "gradient = np.linspace(0, 1, 256)\n",
    "gradient = np.vstack((gradient, gradient))\n",
    "\n",
    "\n",
    "def plot_color_gradients(cmap_category, cmap_list):\n",
    "    # Create figure and adjust figure height to number of colormaps\n",
    "    nrows = len(cmap_list)\n",
    "    figh = 0.35 + 0.15 + (nrows + (nrows-1)*0.1)*0.22\n",
    "    fig, axs = plt.subplots(nrows=nrows, figsize=(6.4, figh))\n",
    "    fig.subplots_adjust(top=1-.35/figh, bottom=.15/figh, left=0.2, right=0.99)\n",
    "\n",
    "    axs[0].set_title(cmap_category + ' colormaps', fontsize=14)\n",
    "\n",
    "    for ax, cmap_name in zip(axs, cmap_list):\n",
    "        ax.imshow(gradient, aspect='auto', cmap=cmap_name)\n",
    "        ax.text(-.01, .5, cmap_name, va='center', ha='right', fontsize=10,\n",
    "                transform=ax.transAxes)\n",
    "\n",
    "    # Turn off *all* ticks & spines, not just the ones with colormaps.\n",
    "    for ax in axs:\n",
    "        ax.set_axis_off()\n",
    "\n",
    "\n",
    "for cmap_category, cmap_list in cmaps:\n",
    "    plot_color_gradients(cmap_category, cmap_list)\n",
    "\n",
    "plt.show()"
   ]
  },
  {
   "cell_type": "markdown",
   "metadata": {},
   "source": [
    "## Subplots are a simple method of doing this as shown above, can you do this in a figure? "
   ]
  },
  {
   "cell_type": "markdown",
   "metadata": {},
   "source": [
    "### Try: \n",
    "( remember that Google/search engines are your friend here - try something like 'matplotlib make a figure' or 'matplotlib add legend to plot/axes/figure' - note that plot/axes/figure are different things... )\n",
    "- [ ] make a figure\n",
    "- [ ] use axes\n",
    "- [ ] set axes limits\n",
    "- [ ] add axes labels\n",
    "- [ ] add a grid\n",
    "- [ ] add a legend\n",
    "- [ ] look at tight_layout\n",
    "- [ ] save the plot as a .png using savefig\n",
    "- [ ] plot 2 sets of data in the same plot (look at twin axes)\n",
    "- [ ] plot multiple plots in the same figure (look at GridSpec)"
   ]
  },
  {
   "cell_type": "code",
   "execution_count": null,
   "metadata": {},
   "outputs": [],
   "source": [
    "# code goes here"
   ]
  },
  {
   "cell_type": "code",
   "execution_count": null,
   "metadata": {},
   "outputs": [],
   "source": []
  },
  {
   "cell_type": "code",
   "execution_count": null,
   "metadata": {},
   "outputs": [],
   "source": []
  },
  {
   "cell_type": "code",
   "execution_count": null,
   "metadata": {},
   "outputs": [],
   "source": []
  },
  {
   "cell_type": "code",
   "execution_count": null,
   "metadata": {},
   "outputs": [],
   "source": []
  },
  {
   "cell_type": "markdown",
   "metadata": {},
   "source": [
    "---\n",
    "# Generate a bunch of particles using pyParticleBunch\n",
    "- [x] call the pyParticleBunch library manually\n",
    "- [x] generate a 2D Gaussian distribution\n",
    "- [x] plot the bunch in different ways"
   ]
  },
  {
   "cell_type": "markdown",
   "metadata": {},
   "source": [
    "This is how you run another python script within a notebook"
   ]
  },
  {
   "cell_type": "code",
   "execution_count": null,
   "metadata": {},
   "outputs": [],
   "source": [
    "from PyParticleBunch import *"
   ]
  },
  {
   "cell_type": "markdown",
   "metadata": {},
   "source": [
    "Now let's create a bunch of particles with a 2D Gaussian distribution in real space"
   ]
  },
  {
   "cell_type": "code",
   "execution_count": null,
   "metadata": {},
   "outputs": [],
   "source": [
    "mean = 0.\n",
    "std_dev = 0.006\n",
    "min_lim = -0.02\n",
    "max_lim = 0.02\n",
    "gaussian_bunch = ParticleBunch.Gaussian_2D(int(1E5), mean, std_dev, mean, std_dev, 'x', 'y')"
   ]
  },
  {
   "cell_type": "markdown",
   "metadata": {},
   "source": [
    "Next we can extract the co-ordinate data in arrays"
   ]
  },
  {
   "cell_type": "code",
   "execution_count": null,
   "metadata": {},
   "outputs": [],
   "source": [
    "x_dat = gaussian_bunch.get_x_array()\n",
    "px_dat = gaussian_bunch.get_xp_array()\n",
    "y_dat = gaussian_bunch.get_y_array()\n",
    "py_dat = gaussian_bunch.get_yp_array()\n",
    "t_dat = gaussian_bunch.get_t_array()\n",
    "pt_dat = gaussian_bunch.get_pt_array()"
   ]
  },
  {
   "cell_type": "markdown",
   "metadata": {},
   "source": [
    "We may plot 1D data using histograms"
   ]
  },
  {
   "cell_type": "code",
   "execution_count": null,
   "metadata": {},
   "outputs": [],
   "source": [
    "fig=plt.figure(figsize=(6, 4), dpi= 200, facecolor='w', edgecolor='k');\n",
    "\n",
    "plt.xlabel('x [m]');\n",
    "plt.ylabel('Counts [arbitrary]');\n",
    "plt.suptitle(\"Normal Distribution\")\n",
    "\n",
    "count, bins, ignored = plt.hist(x_dat, 100)\n",
    "plt.grid()"
   ]
  },
  {
   "cell_type": "markdown",
   "metadata": {},
   "source": [
    "Remember we can plot things side-by-side for comparison"
   ]
  },
  {
   "cell_type": "code",
   "execution_count": null,
   "metadata": {},
   "outputs": [],
   "source": [
    "fig=plt.figure(figsize=(10, 4), dpi= 100, facecolor='w', edgecolor='k');\n",
    "\n",
    "plt.suptitle(\"Normal Distribution\")\n",
    "\n",
    "plt.subplot(121)\n",
    "count, bins, ignored = plt.hist(x_dat, 100)\n",
    "plt.ylabel('Counts [arbitrary]');\n",
    "plt.xlabel('x [m]');\n",
    "plt.grid()\n",
    "\n",
    "plt.subplot(122)\n",
    "plt.ylabel('Counts [arbitrary]');\n",
    "plt.xlabel('y [m]');\n",
    "count, bins, ignored = plt.hist(y_dat, 100)"
   ]
  },
  {
   "cell_type": "markdown",
   "metadata": {},
   "source": [
    "To see the density we can create a 2D histogram and plot it"
   ]
  },
  {
   "cell_type": "code",
   "execution_count": null,
   "metadata": {},
   "outputs": [],
   "source": [
    "fig=plt.figure(figsize=(4, 4), dpi= 200, facecolor='w', edgecolor='k');\n",
    "\n",
    "plt.title('initial particle bunch: real space')\n",
    "plt.ylabel('y [mm]');\n",
    "plt.xlabel('x [mm]')\n",
    "plt.grid(which='both');\n",
    "plt.hist2d(x_dat*1E3, y_dat*1E3, (100, 100), range=[[-20, 20], [-20, 20]], cmap=plt.cm.jet);\n",
    "    \n",
    "# Uncomment the below to save the plot to a file\n",
    "#savename = save_folder + 'ISIS_bunch_initial_heatmap.png';\n",
    "#fig.tight_layout();\n",
    "#plt.savefig(savename);"
   ]
  },
  {
   "cell_type": "markdown",
   "metadata": {},
   "source": [
    "Remember for this distribution type the $p_x$ and $p_y$ are set to 0.0"
   ]
  },
  {
   "cell_type": "code",
   "execution_count": null,
   "metadata": {},
   "outputs": [],
   "source": [
    "fig=plt.figure(figsize=(4, 4), dpi= 200, facecolor='w', edgecolor='k');\n",
    "\n",
    "plt.title('initial particle bunch: phase space')\n",
    "plt.xlabel('x [mm]');\n",
    "plt.ylabel(r'p$_x$ [-]')\n",
    "plt.scatter(x_dat*1E3, px_dat*1E3, marker='x', s=2.5);\n",
    "\n",
    "# Uncomment the below to save the plot to a file\n",
    "#savename = save_folder + 'ISIS_bunch_initial_heatmap.png';\n",
    "#fig.tight_layout();\n",
    "#plt.savefig(savename);"
   ]
  },
  {
   "cell_type": "markdown",
   "metadata": {},
   "source": [
    "## Now you should know:\n",
    "- How to plot data using the MatPlotLib python library\n",
    "- How to add title, axis labels, grids, legends etc to plots\n",
    "- How to save plots to file"
   ]
  },
  {
   "cell_type": "code",
   "execution_count": null,
   "metadata": {},
   "outputs": [],
   "source": []
  }
 ],
 "metadata": {
  "kernelspec": {
   "display_name": "Python 3 (ipykernel)",
   "language": "python",
   "name": "python3"
  },
  "language_info": {
   "codemirror_mode": {
    "name": "ipython",
    "version": 3
   },
   "file_extension": ".py",
   "mimetype": "text/x-python",
   "name": "python",
   "nbconvert_exporter": "python",
   "pygments_lexer": "ipython3",
   "version": "3.11.3"
  }
 },
 "nbformat": 4,
 "nbformat_minor": 4
}
