{
 "cells": [
  {
   "cell_type": "markdown",
   "id": "7dd831dc",
   "metadata": {},
   "source": [
    "# Mathematical Function"
   ]
  },
  {
   "cell_type": "markdown",
   "id": "5189b025",
   "metadata": {},
   "source": [
    "---\n",
    "- [ ] Pick a mathematical function, e.g. $y = sin(x)$\n",
    "- [ ] Write a brief summary of the function using markdown and LaTeX\n",
    "- [ ] Find standard library functions for the function (more than one if you want)\n",
    "- [ ] Embed the standard library function webpages\n",
    "- [ ] Using for example numpy.linspace, create an x-axis array to feed into the function\n",
    "- [ ] Generate x,y scatter data for the function, for various inputs to the function (e.g. 4 y arrays for the 1 x array)\n",
    "- [ ] Plot these data using matplotlib\n",
    "- [ ] Pick a second mathematical function\n",
    "- [ ] Find standard library functions for the second function\n",
    "- [ ] Generate x,y scatter data for the second function, , for various inputs to the function (e.g. 4 y arrays for the 1 x array)\n",
    "- [ ] Plot these data on the same plot using matplotlib, on a second axis\n",
    "- [ ] Add title, axes labels, grid, legend(s) etc to help explain the plot"
   ]
  },
  {
   "cell_type": "code",
   "execution_count": null,
   "id": "79934d18",
   "metadata": {},
   "outputs": [],
   "source": []
  }
 ],
 "metadata": {
  "kernelspec": {
   "display_name": "Python 3 (ipykernel)",
   "language": "python",
   "name": "python3"
  },
  "language_info": {
   "codemirror_mode": {
    "name": "ipython",
    "version": 3
   },
   "file_extension": ".py",
   "mimetype": "text/x-python",
   "name": "python",
   "nbconvert_exporter": "python",
   "pygments_lexer": "ipython3",
   "version": "3.11.3"
  }
 },
 "nbformat": 4,
 "nbformat_minor": 5
}
