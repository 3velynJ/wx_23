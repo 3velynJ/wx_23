{
 "cells": [
  {
   "cell_type": "markdown",
   "id": "9cac7a4c",
   "metadata": {},
   "source": [
    "# Interpolation\n",
    "---"
   ]
  },
  {
   "cell_type": "markdown",
   "id": "ad43fdfb",
   "metadata": {},
   "source": [
    "- [ ] Find out what interpolation means and summarise using jupyter tools (markdown / LaTeX / images / embed webpage / etc)\n",
    "- [ ] Using one of your previous mathematical functions, generate data with sufficient space between data points\n",
    "- [ ] Test methods of python interpolation - plot and compare - try different input parameters etc"
   ]
  },
  {
   "cell_type": "code",
   "execution_count": null,
   "id": "c3ff8556",
   "metadata": {},
   "outputs": [],
   "source": []
  }
 ],
 "metadata": {
  "kernelspec": {
   "display_name": "Python 3 (ipykernel)",
   "language": "python",
   "name": "python3"
  },
  "language_info": {
   "codemirror_mode": {
    "name": "ipython",
    "version": 3
   },
   "file_extension": ".py",
   "mimetype": "text/x-python",
   "name": "python",
   "nbconvert_exporter": "python",
   "pygments_lexer": "ipython3",
   "version": "3.11.3"
  }
 },
 "nbformat": 4,
 "nbformat_minor": 5
}
