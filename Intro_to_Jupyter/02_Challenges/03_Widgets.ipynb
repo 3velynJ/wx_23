{
 "cells": [
  {
   "cell_type": "markdown",
   "metadata": {},
   "source": [
    "# Introduction to iPython Widgets (Challenge at the end)\n",
    "---\n",
    "From https://ipywidgets.readthedocs.io/en/latest/examples/Widget%20Basics.html\n",
    "\n",
    "> Widgets are eventful python objects that have a representation in the browser, often as a control like a slider, textbox, etc.\n",
    ">\n",
    "> You can use widgets to build interactive GUIs for your notebooks.\n",
    ">\n",
    "> You can also use widgets to synchronize stateful and stateless information between Python and JavaScript.\n",
    "\n",
    "### Many guides exist on the web:\n",
    "https://towardsdatascience.com/bring-your-jupyter-notebook-to-life-with-interactive-widgets-bc12e03f0916\n",
    "\n",
    "#### List of widgets:\n",
    "https://ipywidgets.readthedocs.io/en/latest/examples/Widget%20List.html"
   ]
  },
  {
   "cell_type": "markdown",
   "metadata": {},
   "source": [
    "---\n",
    "### Installation\n",
    "\n",
    "Install like:\n",
    "```bash\n",
    "pip install ipywidgets\n",
    "```\n",
    "\n",
    "Further details can be found here:\n",
    "https://ipywidgets.readthedocs.io/en/stable/user_install.html\n",
    "\n",
    "https://jupyterlab.readthedocs.io/en/stable/user/extensions.html#installing-extensions"
   ]
  },
  {
   "cell_type": "code",
   "execution_count": 1,
   "metadata": {},
   "outputs": [],
   "source": [
    "#!pip install ipywidgets\n",
    "#!pip install pandas\n",
    "#!pip install seaborn"
   ]
  },
  {
   "cell_type": "markdown",
   "metadata": {},
   "source": [
    "#### Imports"
   ]
  },
  {
   "cell_type": "code",
   "execution_count": 2,
   "metadata": {},
   "outputs": [],
   "source": [
    "import ipywidgets as widgets\n",
    "\n",
    "# Needed to siplay the widget in our notebook\n",
    "from IPython.display import display\n",
    "\n",
    "import pandas as pd\n",
    "import numpy as np\n",
    "\n",
    "import seaborn as sns\n",
    "import matplotlib.pyplot as plt"
   ]
  },
  {
   "cell_type": "markdown",
   "metadata": {},
   "source": [
    "> # Note:\n",
    "> You will have to run this notebook every time it is opened in order to view the generated widgets"
   ]
  },
  {
   "cell_type": "markdown",
   "metadata": {},
   "source": [
    "# Sliders"
   ]
  },
  {
   "cell_type": "markdown",
   "metadata": {},
   "source": [
    "First we define the slider"
   ]
  },
  {
   "cell_type": "code",
   "execution_count": 3,
   "metadata": {},
   "outputs": [
    {
     "data": {
      "application/vnd.jupyter.widget-view+json": {
       "model_id": "c191e771cb994129a5938310c2d75036",
       "version_major": 2,
       "version_minor": 0
      },
      "text/plain": [
       "IntSlider(value=3, description='Slider:', max=10)"
      ]
     },
     "execution_count": 3,
     "metadata": {},
     "output_type": "execute_result"
    }
   ],
   "source": [
    "widgets.IntSlider(\n",
    "    min=0,\n",
    "    max=10,\n",
    "    step=1,\n",
    "    description='Slider:',\n",
    "    value=3\n",
    ")"
   ]
  },
  {
   "cell_type": "markdown",
   "metadata": {},
   "source": [
    "Next we pass the widget as a parameter in the display() function"
   ]
  },
  {
   "cell_type": "code",
   "execution_count": 4,
   "metadata": {},
   "outputs": [],
   "source": [
    "slider = widgets.IntSlider()"
   ]
  },
  {
   "cell_type": "code",
   "execution_count": 5,
   "metadata": {},
   "outputs": [
    {
     "data": {
      "application/vnd.jupyter.widget-view+json": {
       "model_id": "8e6ab724eff64d1fbb02f4229c766257",
       "version_major": 2,
       "version_minor": 0
      },
      "text/plain": [
       "IntSlider(value=0)"
      ]
     },
     "metadata": {},
     "output_type": "display_data"
    }
   ],
   "source": [
    "display(slider)"
   ]
  },
  {
   "cell_type": "markdown",
   "metadata": {},
   "source": [
    "After the slider has changed we can run `slider.value` to read the value"
   ]
  },
  {
   "cell_type": "code",
   "execution_count": 6,
   "metadata": {},
   "outputs": [
    {
     "data": {
      "text/plain": [
       "0"
      ]
     },
     "execution_count": 6,
     "metadata": {},
     "output_type": "execute_result"
    }
   ],
   "source": [
    "slider.value"
   ]
  },
  {
   "cell_type": "markdown",
   "metadata": {},
   "source": [
    "#### Link two widgets using jslink()\n",
    "Now we combine the two - move the slider to output the number, or input the number to move the slider"
   ]
  },
  {
   "cell_type": "code",
   "execution_count": 7,
   "metadata": {},
   "outputs": [
    {
     "data": {
      "application/vnd.jupyter.widget-view+json": {
       "model_id": "761856938dd740f29ae5d40b775e782a",
       "version_major": 2,
       "version_minor": 0
      },
      "text/plain": [
       "IntSlider(value=0)"
      ]
     },
     "metadata": {},
     "output_type": "display_data"
    },
    {
     "data": {
      "application/vnd.jupyter.widget-view+json": {
       "model_id": "e732898cdccc445a9febf45c306c563f",
       "version_major": 2,
       "version_minor": 0
      },
      "text/plain": [
       "IntText(value=0)"
      ]
     },
     "metadata": {},
     "output_type": "display_data"
    }
   ],
   "source": [
    "slider = widgets.IntSlider();\n",
    "text = widgets.IntText();\n",
    "display(slider, text);\n",
    "widgets.jslink((slider, 'value'), (text, 'value'));"
   ]
  },
  {
   "cell_type": "markdown",
   "metadata": {},
   "source": [
    "## Events\n",
    "using a button"
   ]
  },
  {
   "cell_type": "code",
   "execution_count": 8,
   "metadata": {},
   "outputs": [
    {
     "data": {
      "application/vnd.jupyter.widget-view+json": {
       "model_id": "946576741c9b49b3bfd787e4363771fe",
       "version_major": 2,
       "version_minor": 0
      },
      "text/plain": [
       "Button(description='Click me!', style=ButtonStyle())"
      ]
     },
     "metadata": {},
     "output_type": "display_data"
    }
   ],
   "source": [
    "btn = widgets.Button(description='Click me!')\n",
    "display(btn)\n",
    "def btn_eventhandler(obj):\n",
    "    print('Hello from the {} button!'.format(obj.description))\n",
    "btn.on_click(btn_eventhandler)"
   ]
  },
  {
   "cell_type": "markdown",
   "metadata": {},
   "source": [
    "## Widgets to control a Pandas Dataframe"
   ]
  },
  {
   "cell_type": "markdown",
   "metadata": {},
   "source": [
    "Pandas is a python library used to handle large datasets. These datasets are organised into `Dataframes`. Here we generate a dataframe from some dummy comma separated variable file."
   ]
  },
  {
   "cell_type": "code",
   "execution_count": 9,
   "metadata": {},
   "outputs": [],
   "source": [
    "df_london = pd.read_csv('./03_Inputs/international-visitors-london-raw.csv')"
   ]
  },
  {
   "cell_type": "markdown",
   "metadata": {},
   "source": [
    "Now print the dataframe to see what it looks like"
   ]
  },
  {
   "cell_type": "code",
   "execution_count": 10,
   "metadata": {},
   "outputs": [
    {
     "data": {
      "text/html": [
       "<div>\n",
       "<style scoped>\n",
       "    .dataframe tbody tr th:only-of-type {\n",
       "        vertical-align: middle;\n",
       "    }\n",
       "\n",
       "    .dataframe tbody tr th {\n",
       "        vertical-align: top;\n",
       "    }\n",
       "\n",
       "    .dataframe thead th {\n",
       "        text-align: right;\n",
       "    }\n",
       "</style>\n",
       "<table border=\"1\" class=\"dataframe\">\n",
       "  <thead>\n",
       "    <tr style=\"text-align: right;\">\n",
       "      <th></th>\n",
       "      <th>year</th>\n",
       "      <th>quarter</th>\n",
       "      <th>market</th>\n",
       "      <th>dur_stay</th>\n",
       "      <th>mode</th>\n",
       "      <th>purpose</th>\n",
       "      <th>area</th>\n",
       "      <th>Visits (000s)</th>\n",
       "      <th>Spend (£m)</th>\n",
       "      <th>Nights (000s)</th>\n",
       "      <th>sample</th>\n",
       "    </tr>\n",
       "  </thead>\n",
       "  <tbody>\n",
       "    <tr>\n",
       "      <th>0</th>\n",
       "      <td>2002</td>\n",
       "      <td>January-March</td>\n",
       "      <td>Belgium</td>\n",
       "      <td>1-3  nights</td>\n",
       "      <td>Air</td>\n",
       "      <td>Holiday</td>\n",
       "      <td>LONDON</td>\n",
       "      <td>3.572186</td>\n",
       "      <td>0.969138</td>\n",
       "      <td>6.954456</td>\n",
       "      <td>5</td>\n",
       "    </tr>\n",
       "    <tr>\n",
       "      <th>1</th>\n",
       "      <td>2002</td>\n",
       "      <td>January-March</td>\n",
       "      <td>Belgium</td>\n",
       "      <td>1-3  nights</td>\n",
       "      <td>Air</td>\n",
       "      <td>Business</td>\n",
       "      <td>LONDON</td>\n",
       "      <td>9.284226</td>\n",
       "      <td>2.399577</td>\n",
       "      <td>12.604959</td>\n",
       "      <td>19</td>\n",
       "    </tr>\n",
       "    <tr>\n",
       "      <th>2</th>\n",
       "      <td>2002</td>\n",
       "      <td>January-March</td>\n",
       "      <td>Belgium</td>\n",
       "      <td>1-3  nights</td>\n",
       "      <td>Air</td>\n",
       "      <td>VFR</td>\n",
       "      <td>LONDON</td>\n",
       "      <td>0.877182</td>\n",
       "      <td>0.089833</td>\n",
       "      <td>2.153128</td>\n",
       "      <td>3</td>\n",
       "    </tr>\n",
       "    <tr>\n",
       "      <th>3</th>\n",
       "      <td>2002</td>\n",
       "      <td>January-March</td>\n",
       "      <td>Belgium</td>\n",
       "      <td>1-3  nights</td>\n",
       "      <td>Air</td>\n",
       "      <td>Miscellaneous</td>\n",
       "      <td>LONDON</td>\n",
       "      <td>0.163874</td>\n",
       "      <td>0.010160</td>\n",
       "      <td>0.163874</td>\n",
       "      <td>1</td>\n",
       "    </tr>\n",
       "    <tr>\n",
       "      <th>4</th>\n",
       "      <td>2002</td>\n",
       "      <td>January-March</td>\n",
       "      <td>Belgium</td>\n",
       "      <td>1-3  nights</td>\n",
       "      <td>Sea</td>\n",
       "      <td>Business</td>\n",
       "      <td>LONDON</td>\n",
       "      <td>1.648670</td>\n",
       "      <td>0.016789</td>\n",
       "      <td>1.650300</td>\n",
       "      <td>1</td>\n",
       "    </tr>\n",
       "    <tr>\n",
       "      <th>...</th>\n",
       "      <td>...</td>\n",
       "      <td>...</td>\n",
       "      <td>...</td>\n",
       "      <td>...</td>\n",
       "      <td>...</td>\n",
       "      <td>...</td>\n",
       "      <td>...</td>\n",
       "      <td>...</td>\n",
       "      <td>...</td>\n",
       "      <td>...</td>\n",
       "      <td>...</td>\n",
       "    </tr>\n",
       "    <tr>\n",
       "      <th>61457</th>\n",
       "      <td>2020P</td>\n",
       "      <td>January-March</td>\n",
       "      <td>Other Africa</td>\n",
       "      <td>4-7  nights</td>\n",
       "      <td>Air</td>\n",
       "      <td>Miscellaneous</td>\n",
       "      <td>LONDON</td>\n",
       "      <td>1.695331</td>\n",
       "      <td>1.103167</td>\n",
       "      <td>8.831038</td>\n",
       "      <td>2</td>\n",
       "    </tr>\n",
       "    <tr>\n",
       "      <th>61458</th>\n",
       "      <td>2020P</td>\n",
       "      <td>January-March</td>\n",
       "      <td>Other Africa</td>\n",
       "      <td>8-14 nights</td>\n",
       "      <td>Air</td>\n",
       "      <td>Holiday</td>\n",
       "      <td>LONDON</td>\n",
       "      <td>1.486972</td>\n",
       "      <td>2.022254</td>\n",
       "      <td>7.836555</td>\n",
       "      <td>1</td>\n",
       "    </tr>\n",
       "    <tr>\n",
       "      <th>61459</th>\n",
       "      <td>2020P</td>\n",
       "      <td>January-March</td>\n",
       "      <td>Other Africa</td>\n",
       "      <td>8-14 nights</td>\n",
       "      <td>Air</td>\n",
       "      <td>VFR</td>\n",
       "      <td>LONDON</td>\n",
       "      <td>2.416554</td>\n",
       "      <td>1.847152</td>\n",
       "      <td>63.894432</td>\n",
       "      <td>2</td>\n",
       "    </tr>\n",
       "    <tr>\n",
       "      <th>61460</th>\n",
       "      <td>2020P</td>\n",
       "      <td>January-March</td>\n",
       "      <td>Other Africa</td>\n",
       "      <td>15+  nights</td>\n",
       "      <td>Air</td>\n",
       "      <td>Holiday</td>\n",
       "      <td>LONDON</td>\n",
       "      <td>2.472653</td>\n",
       "      <td>1.006109</td>\n",
       "      <td>35.080377</td>\n",
       "      <td>2</td>\n",
       "    </tr>\n",
       "    <tr>\n",
       "      <th>61461</th>\n",
       "      <td>2020P</td>\n",
       "      <td>January-March</td>\n",
       "      <td>Other Africa</td>\n",
       "      <td>15+  nights</td>\n",
       "      <td>Air</td>\n",
       "      <td>VFR</td>\n",
       "      <td>LONDON</td>\n",
       "      <td>4.124325</td>\n",
       "      <td>3.960705</td>\n",
       "      <td>134.909755</td>\n",
       "      <td>4</td>\n",
       "    </tr>\n",
       "  </tbody>\n",
       "</table>\n",
       "<p>61462 rows × 11 columns</p>\n",
       "</div>"
      ],
      "text/plain": [
       "        year        quarter        market     dur_stay mode        purpose  \\\n",
       "0       2002  January-March       Belgium  1-3  nights  Air        Holiday   \n",
       "1       2002  January-March       Belgium  1-3  nights  Air       Business   \n",
       "2       2002  January-March       Belgium  1-3  nights  Air            VFR   \n",
       "3       2002  January-March       Belgium  1-3  nights  Air  Miscellaneous   \n",
       "4       2002  January-March       Belgium  1-3  nights  Sea       Business   \n",
       "...      ...            ...           ...          ...  ...            ...   \n",
       "61457  2020P  January-March  Other Africa  4-7  nights  Air  Miscellaneous   \n",
       "61458  2020P  January-March  Other Africa  8-14 nights  Air        Holiday   \n",
       "61459  2020P  January-March  Other Africa  8-14 nights  Air            VFR   \n",
       "61460  2020P  January-March  Other Africa  15+  nights  Air        Holiday   \n",
       "61461  2020P  January-March  Other Africa  15+  nights  Air            VFR   \n",
       "\n",
       "          area  Visits (000s)  Spend (£m)  Nights (000s)  sample  \n",
       "0       LONDON       3.572186    0.969138       6.954456       5  \n",
       "1       LONDON       9.284226    2.399577      12.604959      19  \n",
       "2       LONDON       0.877182    0.089833       2.153128       3  \n",
       "3       LONDON       0.163874    0.010160       0.163874       1  \n",
       "4       LONDON       1.648670    0.016789       1.650300       1  \n",
       "...        ...            ...         ...            ...     ...  \n",
       "61457   LONDON       1.695331    1.103167       8.831038       2  \n",
       "61458   LONDON       1.486972    2.022254       7.836555       1  \n",
       "61459   LONDON       2.416554    1.847152      63.894432       2  \n",
       "61460   LONDON       2.472653    1.006109      35.080377       2  \n",
       "61461   LONDON       4.124325    3.960705     134.909755       4  \n",
       "\n",
       "[61462 rows x 11 columns]"
      ]
     },
     "execution_count": 10,
     "metadata": {},
     "output_type": "execute_result"
    }
   ],
   "source": [
    "df_london"
   ]
  },
  {
   "cell_type": "markdown",
   "metadata": {},
   "source": [
    "#### Function to find and sort unique values"
   ]
  },
  {
   "cell_type": "code",
   "execution_count": 11,
   "metadata": {},
   "outputs": [],
   "source": [
    "ALL = 'ALL'\n",
    "def unique_sorted_values_plus_ALL(array):\n",
    "    unique = array.unique().tolist()\n",
    "    unique.sort()\n",
    "    unique.insert(0, ALL)\n",
    "    return unique"
   ]
  },
  {
   "cell_type": "markdown",
   "metadata": {},
   "source": [
    "#### Initialise dropdown\n",
    "We can use a dropdown widget together with the dataframe to select a year - this will use our `unique_sorted_values_plus_ALL` function to sort the dataframe using the selected year, and then show the sorted dataframe"
   ]
  },
  {
   "cell_type": "code",
   "execution_count": 12,
   "metadata": {},
   "outputs": [],
   "source": [
    "dropdown_year = widgets.Dropdown(options = unique_sorted_values_plus_ALL(df_london.year))"
   ]
  },
  {
   "cell_type": "code",
   "execution_count": 13,
   "metadata": {},
   "outputs": [],
   "source": [
    "output_year = widgets.Output()"
   ]
  },
  {
   "cell_type": "code",
   "execution_count": 14,
   "metadata": {},
   "outputs": [],
   "source": [
    "def dropdown_year_eventhandler(change):\n",
    "    if (change.new == ALL):\n",
    "        display(df_london)\n",
    "    else:\n",
    "        display(df_london[df_london.year == change.new])"
   ]
  },
  {
   "cell_type": "code",
   "execution_count": 15,
   "metadata": {},
   "outputs": [
    {
     "data": {
      "application/vnd.jupyter.widget-view+json": {
       "model_id": "8158ab320e1449e9b0f0e1400fe5b20f",
       "version_major": 2,
       "version_minor": 0
      },
      "text/plain": [
       "Dropdown(options=('ALL', '2002', '2003', '2004', '2005', '2006', '2007', '2008', '2009', '2010', '2011', '2012…"
      ]
     },
     "metadata": {},
     "output_type": "display_data"
    }
   ],
   "source": [
    "dropdown_year.observe(dropdown_year_eventhandler, names='value')\n",
    "display(dropdown_year)"
   ]
  },
  {
   "cell_type": "markdown",
   "metadata": {},
   "source": [
    "#### Note repeated output when selecting multiple times - to overcome this use widgets.Output()\n",
    "Now everytime a year is selected the data is refreshed instead of appended"
   ]
  },
  {
   "cell_type": "code",
   "execution_count": 16,
   "metadata": {},
   "outputs": [
    {
     "data": {
      "application/vnd.jupyter.widget-view+json": {
       "model_id": "7215a12150674343ae38e109a20e99d8",
       "version_major": 2,
       "version_minor": 0
      },
      "text/plain": [
       "Dropdown(options=('ALL', '2002', '2003', '2004', '2005', '2006', '2007', '2008', '2009', '2010', '2011', '2012…"
      ]
     },
     "metadata": {},
     "output_type": "display_data"
    }
   ],
   "source": [
    "dropdown_year = widgets.Dropdown(options = unique_sorted_values_plus_ALL(df_london.year))\n",
    "\n",
    "output_year = widgets.Output()\n",
    "\n",
    "def dropdown_year_eventhandler(change):\n",
    "    output_year.clear_output()\n",
    "    with output_year:\n",
    "        if (change.new == ALL):\n",
    "            display(df_london)\n",
    "        else:\n",
    "            display(df_london[df_london.year == change.new])\n",
    "\n",
    "dropdown_year.observe(dropdown_year_eventhandler, names='value')\n",
    "display(dropdown_year)"
   ]
  },
  {
   "cell_type": "code",
   "execution_count": 17,
   "metadata": {},
   "outputs": [
    {
     "data": {
      "application/vnd.jupyter.widget-view+json": {
       "model_id": "6f0b87799a4c4ceaa344e118039b633e",
       "version_major": 2,
       "version_minor": 0
      },
      "text/plain": [
       "Output()"
      ]
     },
     "metadata": {},
     "output_type": "display_data"
    }
   ],
   "source": [
    "display(output_year)"
   ]
  },
  {
   "cell_type": "markdown",
   "metadata": {},
   "source": [
    "## Linking widget output"
   ]
  },
  {
   "cell_type": "markdown",
   "metadata": {},
   "source": [
    "Define common output for both dropdowns"
   ]
  },
  {
   "cell_type": "code",
   "execution_count": 18,
   "metadata": {},
   "outputs": [],
   "source": [
    "output = widgets.Output()"
   ]
  },
  {
   "cell_type": "markdown",
   "metadata": {},
   "source": [
    "Two dropdowns"
   ]
  },
  {
   "cell_type": "code",
   "execution_count": 19,
   "metadata": {},
   "outputs": [],
   "source": [
    "dropdown_year = widgets.Dropdown(options =    unique_sorted_values_plus_ALL(df_london.year))\n",
    "dropdown_purpose = widgets.Dropdown(options = unique_sorted_values_plus_ALL(df_london.purpose))"
   ]
  },
  {
   "cell_type": "markdown",
   "metadata": {},
   "source": [
    "Function to be called by both event handlers. Applied filter to dataframe based on year AND purpose:\n",
    "- clear output\n",
    "- check if filter = ALL (no filter)\n",
    "- use else for both filters, and use &\n",
    "- capture output"
   ]
  },
  {
   "cell_type": "code",
   "execution_count": 20,
   "metadata": {},
   "outputs": [],
   "source": [
    "def common_filtering(year, purpose):\n",
    "    output.clear_output()\n",
    "    \n",
    "    if (year == ALL) & (purpose == ALL):\n",
    "        common_filter = df_london\n",
    "    elif (year == ALL):\n",
    "        common_filter = df_london[df_london.purpose == purpose]\n",
    "    elif (purpose == ALL):\n",
    "        common_filter = df_london[df_london.year == year]\n",
    "    else:\n",
    "        common_filter = df_london[(df_london.year == year) & \n",
    "                                  (df_london.purpose == purpose)]\n",
    "    \n",
    "    with output:\n",
    "        display(common_filter)"
   ]
  },
  {
   "cell_type": "markdown",
   "metadata": {},
   "source": [
    "Amend event handlers to call common_filtering function, pass change.new as well as value"
   ]
  },
  {
   "cell_type": "code",
   "execution_count": 21,
   "metadata": {},
   "outputs": [],
   "source": [
    "def dropdown_year_eventhandler(change):\n",
    "    common_filtering(change.new, dropdown_purpose.value)\n",
    "def dropdown_purpose_eventhandler(change):\n",
    "    common_filtering(dropdown_year.value, change.new)"
   ]
  },
  {
   "cell_type": "markdown",
   "metadata": {},
   "source": [
    "Bind the handlers to the dropdowns"
   ]
  },
  {
   "cell_type": "code",
   "execution_count": 22,
   "metadata": {},
   "outputs": [],
   "source": [
    "dropdown_year.observe(dropdown_year_eventhandler, names='value')\n",
    "dropdown_purpose.observe(dropdown_purpose_eventhandler, names='value')"
   ]
  },
  {
   "cell_type": "code",
   "execution_count": 23,
   "metadata": {},
   "outputs": [
    {
     "data": {
      "application/vnd.jupyter.widget-view+json": {
       "model_id": "41f47dea0fc8437bbda0e786d835a7ae",
       "version_major": 2,
       "version_minor": 0
      },
      "text/plain": [
       "Dropdown(options=('ALL', '2002', '2003', '2004', '2005', '2006', '2007', '2008', '2009', '2010', '2011', '2012…"
      ]
     },
     "metadata": {},
     "output_type": "display_data"
    },
    {
     "data": {
      "application/vnd.jupyter.widget-view+json": {
       "model_id": "865a48c451e54bbb988a8fa648792a9e",
       "version_major": 2,
       "version_minor": 0
      },
      "text/plain": [
       "Dropdown(options=('ALL', 'Business', 'Holiday', 'Miscellaneous', 'Study', 'VFR'), value='ALL')"
      ]
     },
     "metadata": {},
     "output_type": "display_data"
    }
   ],
   "source": [
    "display(dropdown_year)\n",
    "display(dropdown_purpose)"
   ]
  },
  {
   "cell_type": "code",
   "execution_count": 24,
   "metadata": {},
   "outputs": [
    {
     "data": {
      "application/vnd.jupyter.widget-view+json": {
       "model_id": "5a14190718ae41c7b6c84300b56270f5",
       "version_major": 2,
       "version_minor": 0
      },
      "text/plain": [
       "Output()"
      ]
     },
     "metadata": {},
     "output_type": "display_data"
    }
   ],
   "source": [
    "display(output)"
   ]
  },
  {
   "cell_type": "markdown",
   "metadata": {},
   "source": [
    "## Creating a Dashboard - somewhere to hold multiple widgets"
   ]
  },
  {
   "cell_type": "code",
   "execution_count": 25,
   "metadata": {},
   "outputs": [],
   "source": [
    "output = widgets.Output()"
   ]
  },
  {
   "cell_type": "code",
   "execution_count": 26,
   "metadata": {},
   "outputs": [],
   "source": [
    "dropdown_year = widgets.Dropdown(options =    unique_sorted_values_plus_ALL(df_london.year), description='Year')\n",
    "dropdown_purpose = widgets.Dropdown(options = unique_sorted_values_plus_ALL(df_london.purpose), description='Purpose')\n",
    "bounded_num = widgets.BoundedFloatText(min=0, max=100000, value=5, step=1, description='Number')"
   ]
  },
  {
   "cell_type": "code",
   "execution_count": 27,
   "metadata": {},
   "outputs": [],
   "source": [
    "def dropdown_year_eventhandler(change):\n",
    "    common_filtering(change.new, dropdown_purpose.value, bounded_num.value)\n",
    "def dropdown_purpose_eventhandler(change):\n",
    "    common_filtering(dropdown_year.value, change.new, bounded_num.value)"
   ]
  },
  {
   "cell_type": "code",
   "execution_count": 28,
   "metadata": {},
   "outputs": [],
   "source": [
    "def bounded_num_eventhandler(change):\n",
    "    common_filtering(dropdown_year.value, dropdown_purpose.value, change.new)    "
   ]
  },
  {
   "cell_type": "code",
   "execution_count": 29,
   "metadata": {},
   "outputs": [],
   "source": [
    "def colour_ge_value(value, comparison):\n",
    "    if value >= comparison:\n",
    "        return 'color: red'\n",
    "    else:\n",
    "        return 'color: black'"
   ]
  },
  {
   "cell_type": "code",
   "execution_count": 30,
   "metadata": {},
   "outputs": [],
   "source": [
    "def common_filtering(year, purpose, num):\n",
    "    output.clear_output()\n",
    "    \n",
    "    if (year == ALL) & (purpose == ALL):\n",
    "        common_filter = df_london\n",
    "    elif (year == ALL):\n",
    "        common_filter = df_london[df_london.purpose == purpose]\n",
    "    elif (purpose == ALL):\n",
    "        common_filter = df_london[df_london.year == year]\n",
    "    else:\n",
    "        common_filter = df_london[(df_london.year == year) & \n",
    "                                  (df_london.purpose == purpose)]\n",
    "    \n",
    "    with output:\n",
    "        display(common_filter\n",
    "                .style.applymap(\n",
    "                    lambda x: colour_ge_value(x, num),\n",
    "                    subset=['Visits (000s)','Spend (£m)', 'Nights (000s)']))"
   ]
  },
  {
   "cell_type": "code",
   "execution_count": 31,
   "metadata": {},
   "outputs": [],
   "source": [
    "dropdown_year.observe(dropdown_year_eventhandler, names='value')\n",
    "dropdown_purpose.observe(dropdown_purpose_eventhandler, names='value')\n",
    "bounded_num.observe(bounded_num_eventhandler, names='value')"
   ]
  },
  {
   "cell_type": "code",
   "execution_count": 32,
   "metadata": {},
   "outputs": [
    {
     "data": {
      "application/vnd.jupyter.widget-view+json": {
       "model_id": "1cbecd93e03d42ffb483712ce30dd54f",
       "version_major": 2,
       "version_minor": 0
      },
      "text/plain": [
       "Dropdown(description='Year', options=('ALL', '2002', '2003', '2004', '2005', '2006', '2007', '2008', '2009', '…"
      ]
     },
     "metadata": {},
     "output_type": "display_data"
    },
    {
     "data": {
      "application/vnd.jupyter.widget-view+json": {
       "model_id": "83f5c85d464645e99ec933b5a06c02c0",
       "version_major": 2,
       "version_minor": 0
      },
      "text/plain": [
       "Dropdown(description='Purpose', options=('ALL', 'Business', 'Holiday', 'Miscellaneous', 'Study', 'VFR'), value…"
      ]
     },
     "metadata": {},
     "output_type": "display_data"
    },
    {
     "data": {
      "application/vnd.jupyter.widget-view+json": {
       "model_id": "531733b32d0e4ea495e49ccb9b91fa14",
       "version_major": 2,
       "version_minor": 0
      },
      "text/plain": [
       "BoundedFloatText(value=5.0, description='Number', max=100000.0, step=1.0)"
      ]
     },
     "metadata": {},
     "output_type": "display_data"
    }
   ],
   "source": [
    "display(dropdown_year)\n",
    "display(dropdown_purpose)\n",
    "display(bounded_num)"
   ]
  },
  {
   "cell_type": "code",
   "execution_count": 33,
   "metadata": {
    "scrolled": true
   },
   "outputs": [
    {
     "data": {
      "application/vnd.jupyter.widget-view+json": {
       "model_id": "c3240c19068844d094e9ed2c05c3414f",
       "version_major": 2,
       "version_minor": 0
      },
      "text/plain": [
       "Output()"
      ]
     },
     "metadata": {},
     "output_type": "display_data"
    }
   ],
   "source": [
    "display(output)"
   ]
  },
  {
   "cell_type": "markdown",
   "metadata": {},
   "source": [
    "## Plotting\n",
    "\n",
    "Note that this example uses the seaborn library for plotting - this is an alternative to MatPlotLib which is more commonly used"
   ]
  },
  {
   "cell_type": "code",
   "execution_count": 34,
   "metadata": {},
   "outputs": [],
   "source": [
    "output = widgets.Output()\n",
    "plot_output = widgets.Output()"
   ]
  },
  {
   "cell_type": "code",
   "execution_count": 35,
   "metadata": {},
   "outputs": [],
   "source": [
    "dropdown_year = widgets.Dropdown(options =    unique_sorted_values_plus_ALL(df_london.year), description='Year')\n",
    "dropdown_purpose = widgets.Dropdown(options = unique_sorted_values_plus_ALL(df_london.purpose), description='Purpose')\n",
    "bounded_num = widgets.BoundedFloatText(min=0, max=100000, value=5, step=1, description='Number')"
   ]
  },
  {
   "cell_type": "code",
   "execution_count": 36,
   "metadata": {},
   "outputs": [],
   "source": [
    "def common_filtering(year, purpose, num):\n",
    "    output.clear_output()\n",
    "    plot_output.clear_output()\n",
    "    \n",
    "    if (year == ALL) & (purpose == ALL):\n",
    "        common_filter = df_london\n",
    "    elif (year == ALL):\n",
    "        common_filter = df_london[df_london.purpose == purpose]\n",
    "    elif (purpose == ALL):\n",
    "        common_filter = df_london[df_london.year == year]\n",
    "    else:\n",
    "        common_filter = df_london[(df_london.year == year) & \n",
    "                                  (df_london.purpose == purpose)]\n",
    "    \n",
    "    with output:\n",
    "        display(common_filter\n",
    "                .style.applymap(\n",
    "                    lambda x: colour_ge_value(x, num),\n",
    "                    subset=['Visits (000s)','Spend (£m)', 'Nights (000s)']))\n",
    "\n",
    "    with plot_output:\n",
    "        sns.kdeplot(common_filter['Visits (000s)'], shade=True)\n",
    "        plt.show()"
   ]
  },
  {
   "cell_type": "code",
   "execution_count": 37,
   "metadata": {},
   "outputs": [],
   "source": [
    "dropdown_year.observe(dropdown_year_eventhandler, names='value')\n",
    "dropdown_purpose.observe(dropdown_purpose_eventhandler, names='value')\n",
    "bounded_num.observe(bounded_num_eventhandler, names='value')"
   ]
  },
  {
   "cell_type": "code",
   "execution_count": 38,
   "metadata": {},
   "outputs": [
    {
     "data": {
      "application/vnd.jupyter.widget-view+json": {
       "model_id": "b6316a61e77c42438171f9195e28260e",
       "version_major": 2,
       "version_minor": 0
      },
      "text/plain": [
       "Dropdown(description='Year', options=('ALL', '2002', '2003', '2004', '2005', '2006', '2007', '2008', '2009', '…"
      ]
     },
     "metadata": {},
     "output_type": "display_data"
    },
    {
     "data": {
      "application/vnd.jupyter.widget-view+json": {
       "model_id": "7ed16651a94a4932aec9a4b4ee458a76",
       "version_major": 2,
       "version_minor": 0
      },
      "text/plain": [
       "Dropdown(description='Purpose', options=('ALL', 'Business', 'Holiday', 'Miscellaneous', 'Study', 'VFR'), value…"
      ]
     },
     "metadata": {},
     "output_type": "display_data"
    },
    {
     "data": {
      "application/vnd.jupyter.widget-view+json": {
       "model_id": "4ac1552d7a9f4b24893117a99cdcc917",
       "version_major": 2,
       "version_minor": 0
      },
      "text/plain": [
       "BoundedFloatText(value=5.0, description='Number', max=100000.0, step=1.0)"
      ]
     },
     "metadata": {},
     "output_type": "display_data"
    }
   ],
   "source": [
    "display(dropdown_year)\n",
    "display(dropdown_purpose)\n",
    "display(bounded_num)"
   ]
  },
  {
   "cell_type": "code",
   "execution_count": 39,
   "metadata": {
    "scrolled": false
   },
   "outputs": [
    {
     "data": {
      "application/vnd.jupyter.widget-view+json": {
       "model_id": "a1ec931a734c42eb9b358efa5530a65c",
       "version_major": 2,
       "version_minor": 0
      },
      "text/plain": [
       "Output()"
      ]
     },
     "metadata": {},
     "output_type": "display_data"
    },
    {
     "data": {
      "application/vnd.jupyter.widget-view+json": {
       "model_id": "567e15a8bcfd482db5365e73a28f4b03",
       "version_major": 2,
       "version_minor": 0
      },
      "text/plain": [
       "Output()"
      ]
     },
     "metadata": {},
     "output_type": "display_data"
    }
   ],
   "source": [
    "display(output)\n",
    "display(plot_output)"
   ]
  },
  {
   "cell_type": "markdown",
   "metadata": {},
   "source": [
    "## Clean up dashboard - put data and plot into separate tabs"
   ]
  },
  {
   "cell_type": "code",
   "execution_count": 40,
   "metadata": {},
   "outputs": [],
   "source": [
    "item_layout = widgets.Layout(margin='0 0 50px 0')"
   ]
  },
  {
   "cell_type": "code",
   "execution_count": 41,
   "metadata": {},
   "outputs": [],
   "source": [
    "input_widgets = widgets.HBox(\n",
    "[dropdown_year, dropdown_purpose, bounded_num],\n",
    "layout=item_layout)\n",
    "tab = widgets.Tab([output, plot_output],\n",
    "layout=item_layout)"
   ]
  },
  {
   "cell_type": "code",
   "execution_count": 42,
   "metadata": {},
   "outputs": [],
   "source": [
    "tab = widgets.Tab([output, plot_output])\n",
    "tab.set_title(0, 'Dataset Exploration')\n",
    "tab.set_title(1, 'KDE Plot')"
   ]
  },
  {
   "cell_type": "code",
   "execution_count": 43,
   "metadata": {
    "scrolled": false
   },
   "outputs": [
    {
     "data": {
      "application/vnd.jupyter.widget-view+json": {
       "model_id": "b2a33cdb63a144b2b58011a0c8e4406c",
       "version_major": 2,
       "version_minor": 0
      },
      "text/plain": [
       "VBox(children=(HBox(children=(Dropdown(description='Year', options=('ALL', '2002', '2003', '2004', '2005', '20…"
      ]
     },
     "metadata": {},
     "output_type": "display_data"
    }
   ],
   "source": [
    "dashboard = widgets.VBox([input_widgets, tab])\n",
    "display(dashboard)"
   ]
  },
  {
   "cell_type": "markdown",
   "metadata": {},
   "source": [
    "---\n",
    "# Use widgets to plot a MAD-X TFS table\n",
    "- MAD-X: Methodical Accelerator Design, CERNs accelerator design code: https://mad.web.cern.ch/mad/\n",
    "- TFS Table: contains beam description parameters calculated by MAD-X\n",
    "- This file contains the ISIS Synchrotron parameters at injection energy; 70 MeV"
   ]
  },
  {
   "cell_type": "code",
   "execution_count": 44,
   "metadata": {},
   "outputs": [],
   "source": [
    "#!pip install tfs-pandas"
   ]
  },
  {
   "cell_type": "code",
   "execution_count": 45,
   "metadata": {},
   "outputs": [],
   "source": [
    "import tfs"
   ]
  },
  {
   "cell_type": "code",
   "execution_count": 46,
   "metadata": {},
   "outputs": [],
   "source": [
    "ISIS_Injection_bump_tfs = tfs.reader.read_tfs('03_Inputs/injection_bump_on.tfs')"
   ]
  },
  {
   "cell_type": "code",
   "execution_count": 47,
   "metadata": {},
   "outputs": [
    {
     "data": {
      "text/html": [
       "<div>\n",
       "<style scoped>\n",
       "    .dataframe tbody tr th:only-of-type {\n",
       "        vertical-align: middle;\n",
       "    }\n",
       "\n",
       "    .dataframe tbody tr th {\n",
       "        vertical-align: top;\n",
       "    }\n",
       "\n",
       "    .dataframe thead th {\n",
       "        text-align: right;\n",
       "    }\n",
       "</style>\n",
       "<table border=\"1\" class=\"dataframe\">\n",
       "  <thead>\n",
       "    <tr style=\"text-align: right;\">\n",
       "      <th></th>\n",
       "      <th>KEYWORD</th>\n",
       "      <th>NAME</th>\n",
       "      <th>S</th>\n",
       "      <th>L</th>\n",
       "      <th>BETX</th>\n",
       "      <th>ALFX</th>\n",
       "      <th>MUX</th>\n",
       "      <th>BETY</th>\n",
       "      <th>ALFY</th>\n",
       "      <th>MUY</th>\n",
       "      <th>...</th>\n",
       "      <th>BETA33</th>\n",
       "      <th>ALFA11</th>\n",
       "      <th>ALFA12</th>\n",
       "      <th>ALFA13</th>\n",
       "      <th>ALFA21</th>\n",
       "      <th>ALFA22</th>\n",
       "      <th>DISP1</th>\n",
       "      <th>DISP2</th>\n",
       "      <th>DISP3</th>\n",
       "      <th>DISP4</th>\n",
       "    </tr>\n",
       "  </thead>\n",
       "  <tbody>\n",
       "    <tr>\n",
       "      <th>0</th>\n",
       "      <td>MARKER</td>\n",
       "      <td>SYNCHROTRON$START</td>\n",
       "      <td>0.00000</td>\n",
       "      <td>0.00</td>\n",
       "      <td>10.432928</td>\n",
       "      <td>0.743095</td>\n",
       "      <td>0.000000</td>\n",
       "      <td>5.928609</td>\n",
       "      <td>-1.113632</td>\n",
       "      <td>0.000000</td>\n",
       "      <td>...</td>\n",
       "      <td>0.0</td>\n",
       "      <td>0.0</td>\n",
       "      <td>0.0</td>\n",
       "      <td>0.0</td>\n",
       "      <td>0.0</td>\n",
       "      <td>0.0</td>\n",
       "      <td>0.0</td>\n",
       "      <td>0.0</td>\n",
       "      <td>0.0</td>\n",
       "      <td>0.0</td>\n",
       "    </tr>\n",
       "    <tr>\n",
       "      <th>1</th>\n",
       "      <td>MARKER</td>\n",
       "      <td>SP0_DATUM</td>\n",
       "      <td>0.00000</td>\n",
       "      <td>0.00</td>\n",
       "      <td>10.432928</td>\n",
       "      <td>0.743095</td>\n",
       "      <td>0.000000</td>\n",
       "      <td>5.928609</td>\n",
       "      <td>-1.113632</td>\n",
       "      <td>0.000000</td>\n",
       "      <td>...</td>\n",
       "      <td>0.0</td>\n",
       "      <td>0.0</td>\n",
       "      <td>0.0</td>\n",
       "      <td>0.0</td>\n",
       "      <td>0.0</td>\n",
       "      <td>0.0</td>\n",
       "      <td>0.0</td>\n",
       "      <td>0.0</td>\n",
       "      <td>0.0</td>\n",
       "      <td>0.0</td>\n",
       "    </tr>\n",
       "    <tr>\n",
       "      <th>2</th>\n",
       "      <td>SBEND</td>\n",
       "      <td>SP0_DIPFR8</td>\n",
       "      <td>0.16000</td>\n",
       "      <td>0.16</td>\n",
       "      <td>10.195541</td>\n",
       "      <td>0.740409</td>\n",
       "      <td>0.002469</td>\n",
       "      <td>6.296385</td>\n",
       "      <td>-1.185182</td>\n",
       "      <td>0.004169</td>\n",
       "      <td>...</td>\n",
       "      <td>0.0</td>\n",
       "      <td>0.0</td>\n",
       "      <td>0.0</td>\n",
       "      <td>0.0</td>\n",
       "      <td>0.0</td>\n",
       "      <td>0.0</td>\n",
       "      <td>0.0</td>\n",
       "      <td>0.0</td>\n",
       "      <td>0.0</td>\n",
       "      <td>0.0</td>\n",
       "    </tr>\n",
       "    <tr>\n",
       "      <th>3</th>\n",
       "      <td>SBEND</td>\n",
       "      <td>SP0_DIPFR9</td>\n",
       "      <td>0.36000</td>\n",
       "      <td>0.20</td>\n",
       "      <td>9.905764</td>\n",
       "      <td>0.708493</td>\n",
       "      <td>0.005637</td>\n",
       "      <td>6.785519</td>\n",
       "      <td>-1.260463</td>\n",
       "      <td>0.009039</td>\n",
       "      <td>...</td>\n",
       "      <td>0.0</td>\n",
       "      <td>0.0</td>\n",
       "      <td>0.0</td>\n",
       "      <td>0.0</td>\n",
       "      <td>0.0</td>\n",
       "      <td>0.0</td>\n",
       "      <td>0.0</td>\n",
       "      <td>0.0</td>\n",
       "      <td>0.0</td>\n",
       "      <td>0.0</td>\n",
       "    </tr>\n",
       "    <tr>\n",
       "      <th>4</th>\n",
       "      <td>SBEND</td>\n",
       "      <td>SP0_DIPFR10</td>\n",
       "      <td>0.39000</td>\n",
       "      <td>0.03</td>\n",
       "      <td>9.863400</td>\n",
       "      <td>0.703631</td>\n",
       "      <td>0.006120</td>\n",
       "      <td>6.861483</td>\n",
       "      <td>-1.271688</td>\n",
       "      <td>0.009739</td>\n",
       "      <td>...</td>\n",
       "      <td>0.0</td>\n",
       "      <td>0.0</td>\n",
       "      <td>0.0</td>\n",
       "      <td>0.0</td>\n",
       "      <td>0.0</td>\n",
       "      <td>0.0</td>\n",
       "      <td>0.0</td>\n",
       "      <td>0.0</td>\n",
       "      <td>0.0</td>\n",
       "      <td>0.0</td>\n",
       "    </tr>\n",
       "    <tr>\n",
       "      <th>...</th>\n",
       "      <td>...</td>\n",
       "      <td>...</td>\n",
       "      <td>...</td>\n",
       "      <td>...</td>\n",
       "      <td>...</td>\n",
       "      <td>...</td>\n",
       "      <td>...</td>\n",
       "      <td>...</td>\n",
       "      <td>...</td>\n",
       "      <td>...</td>\n",
       "      <td>...</td>\n",
       "      <td>...</td>\n",
       "      <td>...</td>\n",
       "      <td>...</td>\n",
       "      <td>...</td>\n",
       "      <td>...</td>\n",
       "      <td>...</td>\n",
       "      <td>...</td>\n",
       "      <td>...</td>\n",
       "      <td>...</td>\n",
       "      <td>...</td>\n",
       "    </tr>\n",
       "    <tr>\n",
       "      <th>675</th>\n",
       "      <td>SBEND</td>\n",
       "      <td>SP9_DIP6</td>\n",
       "      <td>163.12282</td>\n",
       "      <td>0.06</td>\n",
       "      <td>10.759111</td>\n",
       "      <td>0.588435</td>\n",
       "      <td>4.307433</td>\n",
       "      <td>5.432725</td>\n",
       "      <td>-0.943493</td>\n",
       "      <td>3.823261</td>\n",
       "      <td>...</td>\n",
       "      <td>0.0</td>\n",
       "      <td>0.0</td>\n",
       "      <td>0.0</td>\n",
       "      <td>0.0</td>\n",
       "      <td>0.0</td>\n",
       "      <td>0.0</td>\n",
       "      <td>0.0</td>\n",
       "      <td>0.0</td>\n",
       "      <td>0.0</td>\n",
       "      <td>0.0</td>\n",
       "    </tr>\n",
       "    <tr>\n",
       "      <th>676</th>\n",
       "      <td>SBEND</td>\n",
       "      <td>SP9_DIPFR6</td>\n",
       "      <td>163.32282</td>\n",
       "      <td>0.20</td>\n",
       "      <td>10.492396</td>\n",
       "      <td>0.743612</td>\n",
       "      <td>4.310428</td>\n",
       "      <td>5.840227</td>\n",
       "      <td>-1.095944</td>\n",
       "      <td>3.828916</td>\n",
       "      <td>...</td>\n",
       "      <td>0.0</td>\n",
       "      <td>0.0</td>\n",
       "      <td>0.0</td>\n",
       "      <td>0.0</td>\n",
       "      <td>0.0</td>\n",
       "      <td>0.0</td>\n",
       "      <td>0.0</td>\n",
       "      <td>0.0</td>\n",
       "      <td>0.0</td>\n",
       "      <td>0.0</td>\n",
       "    </tr>\n",
       "    <tr>\n",
       "      <th>677</th>\n",
       "      <td>SBEND</td>\n",
       "      <td>SP9_DIPFR7</td>\n",
       "      <td>163.36282</td>\n",
       "      <td>0.04</td>\n",
       "      <td>10.432928</td>\n",
       "      <td>0.743095</td>\n",
       "      <td>4.311036</td>\n",
       "      <td>5.928609</td>\n",
       "      <td>-1.113632</td>\n",
       "      <td>3.829998</td>\n",
       "      <td>...</td>\n",
       "      <td>0.0</td>\n",
       "      <td>0.0</td>\n",
       "      <td>0.0</td>\n",
       "      <td>0.0</td>\n",
       "      <td>0.0</td>\n",
       "      <td>0.0</td>\n",
       "      <td>0.0</td>\n",
       "      <td>0.0</td>\n",
       "      <td>0.0</td>\n",
       "      <td>0.0</td>\n",
       "    </tr>\n",
       "    <tr>\n",
       "      <th>678</th>\n",
       "      <td>MARKER</td>\n",
       "      <td>SP9_END</td>\n",
       "      <td>163.36282</td>\n",
       "      <td>0.00</td>\n",
       "      <td>10.432928</td>\n",
       "      <td>0.743095</td>\n",
       "      <td>4.311036</td>\n",
       "      <td>5.928609</td>\n",
       "      <td>-1.113632</td>\n",
       "      <td>3.829998</td>\n",
       "      <td>...</td>\n",
       "      <td>0.0</td>\n",
       "      <td>0.0</td>\n",
       "      <td>0.0</td>\n",
       "      <td>0.0</td>\n",
       "      <td>0.0</td>\n",
       "      <td>0.0</td>\n",
       "      <td>0.0</td>\n",
       "      <td>0.0</td>\n",
       "      <td>0.0</td>\n",
       "      <td>0.0</td>\n",
       "    </tr>\n",
       "    <tr>\n",
       "      <th>679</th>\n",
       "      <td>MARKER</td>\n",
       "      <td>SYNCHROTRON$END</td>\n",
       "      <td>163.36282</td>\n",
       "      <td>0.00</td>\n",
       "      <td>10.432928</td>\n",
       "      <td>0.743095</td>\n",
       "      <td>4.311036</td>\n",
       "      <td>5.928609</td>\n",
       "      <td>-1.113632</td>\n",
       "      <td>3.829998</td>\n",
       "      <td>...</td>\n",
       "      <td>0.0</td>\n",
       "      <td>0.0</td>\n",
       "      <td>0.0</td>\n",
       "      <td>0.0</td>\n",
       "      <td>0.0</td>\n",
       "      <td>0.0</td>\n",
       "      <td>0.0</td>\n",
       "      <td>0.0</td>\n",
       "      <td>0.0</td>\n",
       "      <td>0.0</td>\n",
       "    </tr>\n",
       "  </tbody>\n",
       "</table>\n",
       "<p>680 rows × 99 columns</p>\n",
       "</div>"
      ],
      "text/plain": [
       "Headers:\n",
       "    NAME: TWISS\n",
       "    TYPE: TWISS\n",
       "    SEQUENCE: SYNCHROTRON\n",
       "    ...\n",
       "    ORIGIN: 5.07.00 Linux 64\n",
       "    DATE: 21/02/22\n",
       "    TIME: 15.22.35\n",
       "\n",
       "    KEYWORD               NAME          S     L       BETX      ALFX  \\\n",
       "0    MARKER  SYNCHROTRON$START    0.00000  0.00  10.432928  0.743095   \n",
       "1    MARKER          SP0_DATUM    0.00000  0.00  10.432928  0.743095   \n",
       "2     SBEND         SP0_DIPFR8    0.16000  0.16  10.195541  0.740409   \n",
       "3     SBEND         SP0_DIPFR9    0.36000  0.20   9.905764  0.708493   \n",
       "4     SBEND        SP0_DIPFR10    0.39000  0.03   9.863400  0.703631   \n",
       "..      ...                ...        ...   ...        ...       ...   \n",
       "675   SBEND           SP9_DIP6  163.12282  0.06  10.759111  0.588435   \n",
       "676   SBEND         SP9_DIPFR6  163.32282  0.20  10.492396  0.743612   \n",
       "677   SBEND         SP9_DIPFR7  163.36282  0.04  10.432928  0.743095   \n",
       "678  MARKER            SP9_END  163.36282  0.00  10.432928  0.743095   \n",
       "679  MARKER    SYNCHROTRON$END  163.36282  0.00  10.432928  0.743095   \n",
       "\n",
       "          MUX      BETY      ALFY       MUY  ...  BETA33  ALFA11  ALFA12  \\\n",
       "0    0.000000  5.928609 -1.113632  0.000000  ...     0.0     0.0     0.0   \n",
       "1    0.000000  5.928609 -1.113632  0.000000  ...     0.0     0.0     0.0   \n",
       "2    0.002469  6.296385 -1.185182  0.004169  ...     0.0     0.0     0.0   \n",
       "3    0.005637  6.785519 -1.260463  0.009039  ...     0.0     0.0     0.0   \n",
       "4    0.006120  6.861483 -1.271688  0.009739  ...     0.0     0.0     0.0   \n",
       "..        ...       ...       ...       ...  ...     ...     ...     ...   \n",
       "675  4.307433  5.432725 -0.943493  3.823261  ...     0.0     0.0     0.0   \n",
       "676  4.310428  5.840227 -1.095944  3.828916  ...     0.0     0.0     0.0   \n",
       "677  4.311036  5.928609 -1.113632  3.829998  ...     0.0     0.0     0.0   \n",
       "678  4.311036  5.928609 -1.113632  3.829998  ...     0.0     0.0     0.0   \n",
       "679  4.311036  5.928609 -1.113632  3.829998  ...     0.0     0.0     0.0   \n",
       "\n",
       "     ALFA13  ALFA21  ALFA22  DISP1  DISP2  DISP3  DISP4  \n",
       "0       0.0     0.0     0.0    0.0    0.0    0.0    0.0  \n",
       "1       0.0     0.0     0.0    0.0    0.0    0.0    0.0  \n",
       "2       0.0     0.0     0.0    0.0    0.0    0.0    0.0  \n",
       "3       0.0     0.0     0.0    0.0    0.0    0.0    0.0  \n",
       "4       0.0     0.0     0.0    0.0    0.0    0.0    0.0  \n",
       "..      ...     ...     ...    ...    ...    ...    ...  \n",
       "675     0.0     0.0     0.0    0.0    0.0    0.0    0.0  \n",
       "676     0.0     0.0     0.0    0.0    0.0    0.0    0.0  \n",
       "677     0.0     0.0     0.0    0.0    0.0    0.0    0.0  \n",
       "678     0.0     0.0     0.0    0.0    0.0    0.0    0.0  \n",
       "679     0.0     0.0     0.0    0.0    0.0    0.0    0.0  \n",
       "\n",
       "[680 rows x 99 columns]"
      ]
     },
     "execution_count": 47,
     "metadata": {},
     "output_type": "execute_result"
    }
   ],
   "source": [
    "ISIS_Injection_bump_tfs"
   ]
  },
  {
   "cell_type": "markdown",
   "metadata": {},
   "source": [
    "#### Use dropdown to select plotting axes"
   ]
  },
  {
   "cell_type": "code",
   "execution_count": 48,
   "metadata": {},
   "outputs": [],
   "source": [
    "output = widgets.Output()\n",
    "plot_output = widgets.Output()"
   ]
  },
  {
   "cell_type": "code",
   "execution_count": 49,
   "metadata": {},
   "outputs": [],
   "source": [
    "dd_column = widgets.Dropdown(options = ISIS_Injection_bump_tfs.keys())"
   ]
  },
  {
   "cell_type": "code",
   "execution_count": 50,
   "metadata": {},
   "outputs": [],
   "source": [
    "def generate_tfs_slider(df):\n",
    "    tfs_slider = widgets.IntRangeSlider(\n",
    "    value=[0, 16],\n",
    "    min=np.min(df.S),\n",
    "    max=np.max(df.S+1),\n",
    "    step=1,\n",
    "    description='S Range:',\n",
    "    disabled=False,\n",
    "    continuous_update=False,\n",
    "    orientation='horizontal',\n",
    "    readout=True,\n",
    "    readout_format='d',\n",
    "    )\n",
    "    return tfs_slider"
   ]
  },
  {
   "cell_type": "code",
   "execution_count": 51,
   "metadata": {},
   "outputs": [],
   "source": [
    "tfs_slider = generate_tfs_slider(ISIS_Injection_bump_tfs)"
   ]
  },
  {
   "cell_type": "code",
   "execution_count": 52,
   "metadata": {},
   "outputs": [],
   "source": [
    "def madx_tfs_plot_widget(key, limits, df):\n",
    "    output.clear_output()\n",
    "    plot_output.clear_output()\n",
    "    \n",
    "    if key == 'BETX':\n",
    "        ylab = r'$\\beta_x$ [m]'\n",
    "        col = 'b'\n",
    "        ls = '-'\n",
    "        lw = 1.5\n",
    "    \n",
    "    elif key == 'BETY':\n",
    "        ylab = r'$\\beta_y$ [m]'\n",
    "        col = 'r'\n",
    "        ls = '-'\n",
    "        lw = 1.5     \n",
    "        \n",
    "    elif key == 'ALFX':\n",
    "        ylab = r'$\\alpha_x$ [-]'\n",
    "        col = 'b'\n",
    "        ls = '-'\n",
    "        lw = 1.0\n",
    "    \n",
    "    elif key == 'ALFY':\n",
    "        ylab = r'$\\alpha_y$ [-]'\n",
    "        col = 'r'\n",
    "        ls = '-'\n",
    "        lw = 1.0\n",
    "    \n",
    "    elif key == 'MUX':\n",
    "        ylab = r'$\\mu_x$ [-]'\n",
    "        col = 'b'\n",
    "        ls = '-'\n",
    "        lw = 1.0\n",
    "    \n",
    "    elif key == 'MUY':\n",
    "        ylab = r'$\\mu_y$ [-]'\n",
    "        col = 'r'\n",
    "        ls = '-'\n",
    "        lw = 1.0        \n",
    "    \n",
    "    elif key == 'DX':\n",
    "        ylab = r'$D_x$ [m]'\n",
    "        col = 'b'\n",
    "        ls = '-'\n",
    "        lw = 1.0\n",
    "    \n",
    "    elif key == 'DY':\n",
    "        ylab = r'$D_y$ [m]'\n",
    "        col = 'r'\n",
    "        ls = '-'\n",
    "        lw = 1.0    \n",
    "        \n",
    "    else:\n",
    "        ylab = key\n",
    "        col = 'k'\n",
    "        ls = '-'\n",
    "        lw = 1.0         \n",
    "    \n",
    "    with plot_output:\n",
    "        \n",
    "        fig1 = plt.figure(facecolor='w', edgecolor='k', figsize=(8.,4.), tight_layout=True)\n",
    "        ax1 = fig1.add_subplot(111)        \n",
    "        \n",
    "        q1 = \"{:.2f}\".format(ISIS_Injection_bump_tfs.headers['Q1'])\n",
    "        q2 = \"{:.2f}\".format(ISIS_Injection_bump_tfs.headers['Q2'])\n",
    "        title = df.headers['SEQUENCE'] + ' Qx=' + str(q1) +  ' Qy=' + str(q2)\n",
    "        ax1.set_title(title)\n",
    "        \n",
    "        ax1.set_xlabel('S [m]')\n",
    "        ax1.set_ylabel(ylab)\n",
    "        \n",
    "        ax1.set_xlim(limits[0],limits[1])\n",
    "        \n",
    "        ax1.grid(ls=':', lw=0.5, color='grey')\n",
    "        \n",
    "        ax1.plot(df.S, df[key], ls=ls, lw=lw, color=col)\n",
    "        plt.show()"
   ]
  },
  {
   "cell_type": "code",
   "execution_count": 53,
   "metadata": {},
   "outputs": [],
   "source": [
    "def dropdown_key_eventhandler(change):\n",
    "    madx_tfs_plot_widget(change.new, tfs_slider.value, ISIS_Injection_bump_tfs)"
   ]
  },
  {
   "cell_type": "code",
   "execution_count": 54,
   "metadata": {},
   "outputs": [],
   "source": [
    "def s_slider_eventhandler(change):\n",
    "    madx_tfs_plot_widget(dd_column.value, change.new, ISIS_Injection_bump_tfs)"
   ]
  },
  {
   "cell_type": "code",
   "execution_count": 55,
   "metadata": {},
   "outputs": [],
   "source": [
    "dd_column.observe(dropdown_key_eventhandler, names='value')"
   ]
  },
  {
   "cell_type": "code",
   "execution_count": 56,
   "metadata": {},
   "outputs": [
    {
     "data": {
      "application/vnd.jupyter.widget-view+json": {
       "model_id": "304d70b95dea45a2a821f3e44fe086ac",
       "version_major": 2,
       "version_minor": 0
      },
      "text/plain": [
       "IntRangeSlider(value=(0, 16), continuous_update=False, description='S Range:', max=164)"
      ]
     },
     "metadata": {},
     "output_type": "display_data"
    }
   ],
   "source": [
    "display(tfs_slider)"
   ]
  },
  {
   "cell_type": "code",
   "execution_count": 57,
   "metadata": {},
   "outputs": [
    {
     "data": {
      "application/vnd.jupyter.widget-view+json": {
       "model_id": "55913bf1f7ae428582fb50341e05dc2c",
       "version_major": 2,
       "version_minor": 0
      },
      "text/plain": [
       "Dropdown(options=('KEYWORD', 'NAME', 'S', 'L', 'BETX', 'ALFX', 'MUX', 'BETY', 'ALFY', 'MUY', 'X', 'PX', 'Y', '…"
      ]
     },
     "metadata": {},
     "output_type": "display_data"
    }
   ],
   "source": [
    "display(dd_column)"
   ]
  },
  {
   "cell_type": "code",
   "execution_count": 58,
   "metadata": {},
   "outputs": [
    {
     "data": {
      "application/vnd.jupyter.widget-view+json": {
       "model_id": "f5d1a544d57e4f9cbeceab37added37f",
       "version_major": 2,
       "version_minor": 0
      },
      "text/plain": [
       "Output()"
      ]
     },
     "metadata": {},
     "output_type": "display_data"
    }
   ],
   "source": [
    "display(plot_output)"
   ]
  },
  {
   "cell_type": "markdown",
   "metadata": {},
   "source": [
    "# Clean up plotting"
   ]
  },
  {
   "cell_type": "code",
   "execution_count": 59,
   "metadata": {},
   "outputs": [],
   "source": [
    "item_layout = widgets.Layout(margin='0 0 50px 0')"
   ]
  },
  {
   "cell_type": "code",
   "execution_count": 60,
   "metadata": {},
   "outputs": [],
   "source": [
    "input_widgets = widgets.HBox(\n",
    "[dd_column, tfs_slider],\n",
    "layout=item_layout)\n",
    "tab = widgets.Tab([output, plot_output],\n",
    "layout=item_layout)"
   ]
  },
  {
   "cell_type": "code",
   "execution_count": 61,
   "metadata": {
    "scrolled": false
   },
   "outputs": [
    {
     "data": {
      "application/vnd.jupyter.widget-view+json": {
       "model_id": "31db08cd23674056a5183a3dbbf5e5e5",
       "version_major": 2,
       "version_minor": 0
      },
      "text/plain": [
       "VBox(children=(HBox(children=(Dropdown(options=('KEYWORD', 'NAME', 'S', 'L', 'BETX', 'ALFX', 'MUX', 'BETY', 'A…"
      ]
     },
     "metadata": {},
     "output_type": "display_data"
    }
   ],
   "source": [
    "dashboard = widgets.VBox([input_widgets])\n",
    "display(dashboard)"
   ]
  },
  {
   "cell_type": "code",
   "execution_count": 62,
   "metadata": {},
   "outputs": [
    {
     "data": {
      "application/vnd.jupyter.widget-view+json": {
       "model_id": "f5d1a544d57e4f9cbeceab37added37f",
       "version_major": 2,
       "version_minor": 0
      },
      "text/plain": [
       "Output()"
      ]
     },
     "metadata": {},
     "output_type": "display_data"
    }
   ],
   "source": [
    "display(plot_output)"
   ]
  },
  {
   "cell_type": "markdown",
   "metadata": {},
   "source": [
    "---\n",
    "# Save fig button test\n",
    "- This example will save two plots, a .png and a .eps\n",
    "- The saved filenames will correspond to the slider selection values"
   ]
  },
  {
   "cell_type": "code",
   "execution_count": 64,
   "metadata": {},
   "outputs": [],
   "source": [
    "button = widgets.Button(description=\"Savefig\")"
   ]
  },
  {
   "cell_type": "code",
   "execution_count": 66,
   "metadata": {
    "scrolled": false
   },
   "outputs": [
    {
     "data": {
      "image/png": "[encoded data removed]",
      "text/plain": [
       "<Figure size 800x400 with 2 Axes>"
      ]
     },
     "metadata": {},
     "output_type": "display_data"
    },
    {
     "data": {
      "application/vnd.jupyter.widget-view+json": {
       "model_id": "c89860e72d4c46e080255169910cefaa",
       "version_major": 2,
       "version_minor": 0
      },
      "text/plain": [
       "interactive(children=(FloatSlider(value=0.01, description='p', max=1.0, min=0.01, step=0.01), FloatSlider(valu…"
      ]
     },
     "metadata": {},
     "output_type": "display_data"
    },
    {
     "data": {
      "text/plain": [
       "<function __main__.plotfields(p, a)>"
      ]
     },
     "execution_count": 66,
     "metadata": {},
     "output_type": "execute_result"
    }
   ],
   "source": [
    "params = [0.01,0.01]\n",
    "\n",
    "\n",
    "fig,ax = plt.subplots(1,2,facecolor='w', edgecolor='k',figsize=(4*2,4),sharey=True);\n",
    "X,Y=np.meshgrid(np.linspace(0,100,100),np.linspace(0,100,100));\n",
    "b1 = np.sin(params[0]*X)*np.cos(params[1]*Y);\n",
    "b2 = np.sin(params[1]*X)*np.cos(params[0]*Y);\n",
    "im1 = ax[0].imshow(b1,aspect='auto');\n",
    "im2 = ax[1].imshow(b2,aspect='auto');\n",
    "ax[0].set_ylabel(r'$t$');\n",
    "ax[0].set_xlabel(r'$x$');\n",
    "ax[1].set_xlabel(r'$x$');\n",
    "plt.tight_layout();\n",
    "\n",
    "def plotfields(p,a):\n",
    "    params[0] = p; params[1] = a\n",
    "    b1 = np.sin(params[0]*X)*np.cos(params[1]*Y)\n",
    "    b2 = np.sin(params[1]*X)*np.cos(params[0]*Y)\n",
    "    im1.set_data(b1)\n",
    "    im2.set_data(b2)\n",
    "    display(fig)\n",
    "\n",
    "def on_button_clicked(b):\n",
    "    fig.savefig(\"test_p{:.3s}_a{:.3s}.eps\".format(str(int(100*params[0])),str(int(100*params[1]))))\n",
    "    fig.savefig(\"test_p{:.3s}_a{:.3s}.png\".format(str(int(100*params[0])),str(int(100*params[1]))))\n",
    "button.on_click(on_button_clicked)\n",
    "\n",
    "p_w  = widgets.FloatSlider(min=0.01, max=1, step=0.01, value=0.01)\n",
    "a_w  = widgets.FloatSlider(min=0.01, max=1, step=0.01, value=0.01)\n",
    "widgets.interact(plotfields,p=p_w,a=a_w)"
   ]
  },
  {
   "cell_type": "markdown",
   "metadata": {},
   "source": [
    "Try changing p and a using the sliders, then save the figure using the below button. Careful, .eps files are large!"
   ]
  },
  {
   "cell_type": "code",
   "execution_count": 67,
   "metadata": {},
   "outputs": [
    {
     "data": {
      "application/vnd.jupyter.widget-view+json": {
       "model_id": "e7b022d711604120bb607e5d69c7a010",
       "version_major": 2,
       "version_minor": 0
      },
      "text/plain": [
       "Button(description='Savefig', style=ButtonStyle())"
      ]
     },
     "metadata": {},
     "output_type": "display_data"
    }
   ],
   "source": [
    "display(button)"
   ]
  },
  {
   "cell_type": "markdown",
   "metadata": {},
   "source": [
    "# Challenge:\n",
    "- [ ] Extend challenge 1 (Mathematical function) to a widget\n",
    "- [ ] Increase the complexity of the function to a physical function if you wish\n",
    "- [ ] Make a slider / textbox widget for each input parameter\n",
    "- [ ] Plot the output\n",
    "- [ ] Add a second function, with a new set of sliders etc\n",
    "- [ ] Plot both functions on the same plot using twin axes"
   ]
  },
  {
   "cell_type": "code",
   "execution_count": null,
   "metadata": {},
   "outputs": [],
   "source": []
  }
 ],
 "metadata": {
  "kernelspec": {
   "display_name": "Python 3 (ipykernel)",
   "language": "python",
   "name": "python3"
  },
  "language_info": {
   "codemirror_mode": {
    "name": "ipython",
    "version": 3
   },
   "file_extension": ".py",
   "mimetype": "text/x-python",
   "name": "python",
   "nbconvert_exporter": "python",
   "pygments_lexer": "ipython3",
   "version": "3.11.3"
  }
 },
 "nbformat": 4,
 "nbformat_minor": 4
}
