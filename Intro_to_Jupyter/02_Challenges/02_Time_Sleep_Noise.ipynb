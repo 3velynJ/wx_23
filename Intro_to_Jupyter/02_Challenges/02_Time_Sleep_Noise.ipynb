{
 "cells": [
  {
   "cell_type": "markdown",
   "id": "4869faac",
   "metadata": {},
   "source": [
    "# Time / Sleep / Noise"
   ]
  },
  {
   "cell_type": "markdown",
   "id": "e261bb45",
   "metadata": {},
   "source": [
    "---\n",
    "- [ ] using pythons time library (or otherwise)\n",
    "- [ ] make a function that returns one of your previous mathematical functions x,y data \n",
    "- [ ] return data in arrays of the same length\n",
    "- [ ] allow the user to select the time delay in seconds (use 1 as a default)\n",
    "- [ ] plot this data\n",
    "- [ ] find a way to refresh the data on the same figure\n",
    "---\n",
    "- [ ] **repeat and add noise**\n",
    "- [ ] using pythons random library (or otherwise)\n",
    "- [ ] make a function that returns one of your previous mathematical functions x,y data with random noise on the y-data\n",
    "- [ ] allow the user to select type/magnitude of noise\n",
    "- [ ] return data in arrays of the same length\n",
    "- [ ] allow the user to select the time delay in seconds (use 1 as a default)\n",
    "- [ ] plot this data\n",
    "- [ ] find a way to refresh the data on the same figure"
   ]
  },
  {
   "cell_type": "code",
   "execution_count": null,
   "id": "3e4e4627",
   "metadata": {},
   "outputs": [],
   "source": []
  }
 ],
 "metadata": {
  "kernelspec": {
   "display_name": "Python 3 (ipykernel)",
   "language": "python",
   "name": "python3"
  },
  "language_info": {
   "codemirror_mode": {
    "name": "ipython",
    "version": 3
   },
   "file_extension": ".py",
   "mimetype": "text/x-python",
   "name": "python",
   "nbconvert_exporter": "python",
   "pygments_lexer": "ipython3",
   "version": "3.11.3"
  }
 },
 "nbformat": 4,
 "nbformat_minor": 5
}
